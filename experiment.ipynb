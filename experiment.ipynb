{
 "cells": [
  {
   "cell_type": "code",
   "execution_count": 1,
   "metadata": {},
   "outputs": [],
   "source": [
    "import mainCode as Haha\n",
    "import tensorflow as tf"
   ]
  },
  {
   "cell_type": "markdown",
   "metadata": {},
   "source": [
    "# basic data"
   ]
  },
  {
   "cell_type": "code",
   "execution_count": 2,
   "metadata": {},
   "outputs": [
    {
     "name": "stdout",
     "output_type": "stream",
     "text": [
      "number of all type odor descriptors = 970\n",
      "appear times >= 50 odor descriptors have 71\n",
      "they are\n",
      "['fruity', 'sweet', 'green', 'floral', 'woody', 'herbaceous', 'fatty', 'fresh', 'waxy', 'rose', 'spicy', 'citrus', 'earthy', 'tropical', 'oily', 'nutty', 'roasted', 'sulfurous', 'balsam', 'apple', 'dry', 'powdery', 'phenolic', 'vegetable', 'pineapple', 'bland', 'aldehydic', 'musty', 'creamy', 'minty', 'meaty', 'metallic', 'honey', 'onion', 'berry', 'balsamic', 'jasmin', 'spice', 'banana', 'pungent', 'animal', 'amber', 'musk', 'caramel', 'pear', 'burnt', 'camphor', 'coconut', 'orange', 'coffee', 'mushroom', 'garlic', 'melon', 'natural', 'violet', 'leafy', 'peach', 'tobacco', 'pine', 'geranium', 'vanilla', 'cocoa', 'sulfury', 'nut', 'buttery', 'cooked', 'lily', 'hyacinth', 'apricot', 'cherry', 'almond']\n",
      "final od_times with all samples: {'fruity': 1209, 'sweet': 1059, 'green': 1034, 'floral': 851, 'woody': 598, 'herbaceous': 532, 'fatty': 404}\n",
      "3708\n",
      "879\n",
      "4587\n"
     ]
    }
   ],
   "source": [
    "odlist_4 = [\n",
    "    'fruity', 'sweet', 'green', 'floral', 'woody', 'herbaceous', 'fatty'\n",
    "]\n",
    "\n",
    "getdata = Haha.BasicData(which_data='mine')\n",
    "getdata.readOD(50, od_selected=odlist_4)\n",
    "smiles_list = getdata.readSmiles()\n",
    "print(len(smiles_list))\n",
    "\n",
    "getdata.which_data = 'odorless'\n",
    "smiles_list_odorless = getdata.readSmiles(filelist=['summary_odorless.txt'])\n",
    "print(len(smiles_list_odorless))\n",
    "\n",
    "smiles_list.extend(smiles_list_odorless)\n",
    "print(len(smiles_list))"
   ]
  },
  {
   "cell_type": "code",
   "execution_count": 3,
   "metadata": {},
   "outputs": [],
   "source": [
    "from rdkit import RDLogger\n",
    "RDLogger.DisableLog('rdApp.*')"
   ]
  },
  {
   "cell_type": "markdown",
   "metadata": {},
   "source": [
    "# ODs prediction"
   ]
  },
  {
   "cell_type": "code",
   "execution_count": 4,
   "metadata": {},
   "outputs": [
    {
     "name": "stdout",
     "output_type": "stream",
     "text": [
      "Transformer2OD_tada\n",
      "transformer2od\n",
      "54 mol cannot compute distance, they are: [1992, 1994, 1999, 2005, 2012, 2016, 2018, 2024, 2513, 2565, 3057, 3068, 3260, 3261, 3270, 3289, 3329, 3553, 3554, 3650, 3833, 3871, 3883, 3889, 3938, 4179, 4189, 4235, 4335, 4336, 4337, 4409, 4442, 4469, 4475, 4491, 4502, 4522, 4523, 4524, 4526, 4539, 4543, 4560, 4561, 4565, 4568, 4569, 4574, 4578, 4580, 4582, 4583, 4586]\n",
      "num_sample : 4533\n",
      "mask_mat: (4533, 1, 1, 60)\n",
      "mol_atom_feat.shape: (4533, 60, 71)\n",
      "distance value type is: exp\n",
      "all_adj.shape = : (4533, 60, 60)\n",
      "all_dist.shape = : (4533, 60, 60)\n",
      "od_shuffled.shape =  (4533, 7)\n",
      "positive sample distribution in test set:\n",
      "{'fruity': 201.0, 'sweet': 144.0, 'green': 150.0, 'floral': 125.0, 'woody': 89.0, 'herbaceous': 93.0, 'fatty': 77.0}\n",
      "positive sample distribution in test set:\n",
      "{'fruity': 1007.0, 'sweet': 913.0, 'green': 880.0, 'floral': 726.0, 'woody': 504.0, 'herbaceous': 437.0, 'fatty': 324.0}\n"
     ]
    }
   ],
   "source": [
    "test = Haha.Transformer2OD_tada()\n",
    "test.molData_atomicF(smiles_list, dist_value='exp', atomH=False, failed_mol=None, rseed=1)\n",
    "test.odData(getdata.od_mat_ori, getdata.od_name)"
   ]
  },
  {
   "cell_type": "code",
   "execution_count": 5,
   "metadata": {},
   "outputs": [],
   "source": [
    "test.use_adj_dist = 'both'\n",
    "hpara = {\n",
    "            'num_heads': 6,\n",
    "            'single_attn_dim': 30,\n",
    "            'num_encoderLayer': 2,\n",
    "            'num_decoderLayer': 3, \n",
    "            'learning_rate': 0.00002, \n",
    "            'temperature': 0.7\n",
    "        }\n",
    "\n",
    "record_dir='/tf/haha/code/logs/0607/od_pred'\n",
    "\n",
    "weight_path = '/tf/haha/save_weight/0607/od_pred/'\n"
   ]
  },
  {
   "cell_type": "code",
   "execution_count": 6,
   "metadata": {},
   "outputs": [
    {
     "name": "stdout",
     "output_type": "stream",
     "text": [
      "/tf/haha/code/logs/0607/od_pred\n",
      "modelBuild2-temperature 0.700000\n",
      "(3775, 1, 1)\n",
      "(3775, 60, 71)\n",
      "(3775, 60, 60)\n",
      "(3775, 60, 60)\n",
      "(3775, 1, 1, 60)\n",
      "(3775, 7)\n",
      "0 WARNING:tensorflow:Model was constructed with shape (32, 1, 1) for input KerasTensor(type_spec=TensorSpec(shape=(32, 1, 1), dtype=tf.float32, name='input_1'), name='input_1', description=\"created by layer 'input_1'\"), but it was called on an input with incompatible shape (31, 1, 1).\n",
      "WARNING:tensorflow:Model was constructed with shape (32, 60, 71) for input KerasTensor(type_spec=TensorSpec(shape=(32, 60, 71), dtype=tf.float32, name='input_2'), name='input_2', description=\"created by layer 'input_2'\"), but it was called on an input with incompatible shape (31, 60, 71).\n",
      "WARNING:tensorflow:Model was constructed with shape (32, 60, 60) for input KerasTensor(type_spec=TensorSpec(shape=(32, 60, 60), dtype=tf.float32, name='input_3'), name='input_3', description=\"created by layer 'input_3'\"), but it was called on an input with incompatible shape (31, 60, 60).\n",
      "WARNING:tensorflow:Model was constructed with shape (32, 60, 60) for input KerasTensor(type_spec=TensorSpec(shape=(32, 60, 60), dtype=tf.float32, name='input_4'), name='input_4', description=\"created by layer 'input_4'\"), but it was called on an input with incompatible shape (31, 60, 60).\n",
      "WARNING:tensorflow:Model was constructed with shape (32, 1, 1, 60) for input KerasTensor(type_spec=TensorSpec(shape=(32, 1, 1, 60), dtype=tf.float32, name='input_5'), name='input_5', description=\"created by layer 'input_5'\"), but it was called on an input with incompatible shape (31, 1, 1, 60).\n",
      "WARNING:tensorflow:Model was constructed with shape (32, 7) for input KerasTensor(type_spec=TensorSpec(shape=(32, 7), dtype=tf.float32, name='input_6'), name='input_6', description=\"created by layer 'input_6'\"), but it was called on an input with incompatible shape (31, 7).\n",
      "WARNING:tensorflow:Model was constructed with shape (32, 1, 1) for input KerasTensor(type_spec=TensorSpec(shape=(32, 1, 1), dtype=tf.float32, name='input_1'), name='input_1', description=\"created by layer 'input_1'\"), but it was called on an input with incompatible shape (22, 1, 1).\n",
      "WARNING:tensorflow:Model was constructed with shape (32, 60, 71) for input KerasTensor(type_spec=TensorSpec(shape=(32, 60, 71), dtype=tf.float32, name='input_2'), name='input_2', description=\"created by layer 'input_2'\"), but it was called on an input with incompatible shape (22, 60, 71).\n",
      "WARNING:tensorflow:Model was constructed with shape (32, 60, 60) for input KerasTensor(type_spec=TensorSpec(shape=(32, 60, 60), dtype=tf.float32, name='input_3'), name='input_3', description=\"created by layer 'input_3'\"), but it was called on an input with incompatible shape (22, 60, 60).\n",
      "WARNING:tensorflow:Model was constructed with shape (32, 60, 60) for input KerasTensor(type_spec=TensorSpec(shape=(32, 60, 60), dtype=tf.float32, name='input_4'), name='input_4', description=\"created by layer 'input_4'\"), but it was called on an input with incompatible shape (22, 60, 60).\n",
      "WARNING:tensorflow:Model was constructed with shape (32, 1, 1, 60) for input KerasTensor(type_spec=TensorSpec(shape=(32, 1, 1, 60), dtype=tf.float32, name='input_5'), name='input_5', description=\"created by layer 'input_5'\"), but it was called on an input with incompatible shape (22, 1, 1, 60).\n",
      "WARNING:tensorflow:Model was constructed with shape (32, 7) for input KerasTensor(type_spec=TensorSpec(shape=(32, 7), dtype=tf.float32, name='input_6'), name='input_6', description=\"created by layer 'input_6'\"), but it was called on an input with incompatible shape (22, 7).\n",
      "1 2 3 4 5 6 7 8 9 10 11 12 13 14 15 16 17 18 19 20 21 22 23 24 25 26 27 28 29 30 31 32 33 34 35 weight保存开始：Tue Jun  7 06:01:50 2022 weight保存完成 Tue Jun  7 06:01:50 2022\n",
      "36 37 38 39 40 weight保存开始：Tue Jun  7 06:02:22 2022 weight保存完成 Tue Jun  7 06:02:22 2022\n",
      "41 42 43 44 45 weight保存开始：Tue Jun  7 06:02:53 2022 weight保存完成 Tue Jun  7 06:02:53 2022\n",
      "46 47 48 49 50 51 52 53 54 55 56 57 58 59 60 61 62 63 64 65 66 67 68 69 70 71 72 73 74 75 76 weight保存开始：Tue Jun  7 06:06:07 2022 weight保存完成 Tue Jun  7 06:06:08 2022\n",
      "77 78 79 {'avg': 0.5505764284063072, 'avg_pcs': 0.4970613845757076, 'avg_rc': 0.6230546874659402, 'fruity': 0.6744186095607286, 'sweet': 0.5254691861174295, 'green': 0.5207756238779121, 'floral': 0.5810810819695447, 'woody': 0.6210526433578818, 'herbaceous': 0.43434344006307196, 'fatty': 0.49689441389758104}\n"
     ]
    },
    {
     "data": {
      "text/plain": [
       "(<keras.engine.functional.Functional at 0x7f5c4c4f4ca0>,\n",
       " {'avg': 0.5505764284063072,\n",
       "  'avg_pcs': 0.4970613845757076,\n",
       "  'avg_rc': 0.6230546874659402,\n",
       "  'fruity': 0.6744186095607286,\n",
       "  'sweet': 0.5254691861174295,\n",
       "  'green': 0.5207756238779121,\n",
       "  'floral': 0.5810810819695447,\n",
       "  'woody': 0.6210526433578818,\n",
       "  'herbaceous': 0.43434344006307196,\n",
       "  'fatty': 0.49689441389758104})"
      ]
     },
     "execution_count": 6,
     "metadata": {},
     "output_type": "execute_result"
    }
   ],
   "source": [
    "test.modelTrain2(hpara, epochs=80, batch_size=32, record_dir=record_dir, save_threshold=0.54, save_path=weight_path, normal_init=False)"
   ]
  },
  {
   "cell_type": "markdown",
   "metadata": {},
   "source": [
    "# substructure prediction"
   ]
  },
  {
   "cell_type": "code",
   "execution_count": null,
   "metadata": {},
   "outputs": [],
   "source": [
    "sub_dict = {\n",
    "    '0': 'cCc',\n",
    "    '1': 'CC(C)(C)C',\n",
    "    '2': 'CC(C)C', # 三叉的碳\n",
    "    '3': 'C1=CCCC1', # 五元环带个双键\n",
    "    '4': 'C12CC(CC1)CC2',\n",
    "    '5': '[CD4]',\n",
    "    '6': '[r5]',\n",
    "    '7': '[r4]',\n",
    "    '8': 'C1CCC1',\n",
    "    '9': 'C1CCCC1',\n",
    "    '10': 'C(=O)O&&CC(C)C',\n",
    "    '11': 'C(=O)O&&[r5]',\n",
    "    '12': 'C=C-C=C&&CC(C)C',\n",
    "    '13': 'SS',\n",
    "    '14': '[r6]&&[r5]',\n",
    "}\n",
    "\n",
    "od_name = []\n",
    "sub_list = []\n",
    "for sub in sub_dict:\n",
    "    od_name.append(sub)\n",
    "    sub_list.append(sub_dict[sub])\n",
    "\n",
    "otherpairs = [[12,14]]\n",
    "od_name.append('12or14')"
   ]
  },
  {
   "cell_type": "code",
   "execution_count": null,
   "metadata": {},
   "outputs": [],
   "source": [
    "test = Haha.Transformer2Sub()\n",
    "test.molData_atomicF(smiles_list, dist_value='exp', atomH=False, failed_mol=None, rseed=0)\n",
    "test.odData(smiles_list, sub_list=sub_list, od_name=od_name, otherpairs=otherpairs)"
   ]
  },
  {
   "cell_type": "code",
   "execution_count": null,
   "metadata": {},
   "outputs": [],
   "source": [
    "hpara = {\n",
    "            'num_heads': 6,\n",
    "            'single_attn_dim': 30,\n",
    "            'num_encoderLayer': 2,\n",
    "            'num_decoderLayer': 4, \n",
    "            'learning_rate': 0.00003, \n",
    "            'temperature': 0.7\n",
    "        }\n",
    "\n",
    "record_dir='/tf/haha/code/logs/0607/sub_pred'\n",
    "\n",
    "weight_path = '/tf/haha/save_weight/0607/sub_pred/'"
   ]
  },
  {
   "cell_type": "code",
   "execution_count": null,
   "metadata": {},
   "outputs": [],
   "source": [
    "test.modelTrain2(hpara, epochs=200, batch_size=32, record_dir=record_dir, save_threshold=0.54, save_path=weight_path, normal_init=False)"
   ]
  },
  {
   "cell_type": "markdown",
   "metadata": {},
   "source": [
    "# draw attention"
   ]
  },
  {
   "cell_type": "code",
   "execution_count": null,
   "metadata": {},
   "outputs": [],
   "source": [
    "# make output\n",
    "out_train = []\n",
    "out_test = []\n",
    "for i in range(test.feature_od):\n",
    "    out_train.append(test.od_train[:, i])\n",
    "    out_test.append(test.od_test[:, i])\n",
    "out_train = tuple(out_train)\n",
    "out_test = tuple(out_test)"
   ]
  },
  {
   "cell_type": "code",
   "execution_count": null,
   "metadata": {},
   "outputs": [],
   "source": [
    "test.use_adj_dist = 'both'\n",
    "model = test.modelBuild2(batch_size=32, num_heads=6, single_attn_dim=30, feedforward_dim=180, num_encoderLayer=2, \n",
    "                    num_decoderLayer=3, dropout_rate=0.1, lr=0.00002, compile=True, normal_init=False, temperature=0.7)\n",
    "\n",
    "model.load_weights('/tf/haha/save_weight/0607/od_pred/')\n",
    "\n",
    "if len(test.test_input) == test.input_items-1:\n",
    "    test.test_input = list(test.test_input)\n",
    "    test.test_input.append(test.od_test)\n",
    "    test.test_input = tuple(test.test_input)"
   ]
  },
  {
   "cell_type": "code",
   "execution_count": null,
   "metadata": {},
   "outputs": [],
   "source": [
    "pred = model(test.test_input)\n",
    "eva_dict = model.evaluate(test.test_input, out_test, return_dict=True, batch_size=2)\n",
    "print(test.calFscore(eva_dict))"
   ]
  },
  {
   "cell_type": "code",
   "execution_count": null,
   "metadata": {},
   "outputs": [],
   "source": [
    "# attnDraw\n",
    "attn = test.attnExtract(model, num_cls=test.feature_od, trainORtest='test', dc_layer=True)\n",
    "attn = [attn[-1]] # if draw each dc layer, delete this line\n",
    "pred = model(test.test_input)\n",
    "savepath = '/tf/haha/img_result/0607/6_30_23/'\n",
    "test.drawAttn(attn, smiles_list, pred, savepath, max_draw=500, per_head=False, trainORtest='test', attn_c=0.7, posneg='positive')"
   ]
  }
 ],
 "metadata": {
  "interpreter": {
   "hash": "916dbcbb3f70747c44a77c7bcd40155683ae19c65e1c03b4aa3499c5328201f1"
  },
  "kernelspec": {
   "display_name": "Python 3.8.10 64-bit",
   "name": "python3"
  },
  "language_info": {
   "codemirror_mode": {
    "name": "ipython",
    "version": 3
   },
   "file_extension": ".py",
   "mimetype": "text/x-python",
   "name": "python",
   "nbconvert_exporter": "python",
   "pygments_lexer": "ipython3",
   "version": "3.8.10"
  },
  "orig_nbformat": 4
 },
 "nbformat": 4,
 "nbformat_minor": 2
}
